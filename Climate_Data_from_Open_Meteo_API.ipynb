{
  "nbformat": 4,
  "nbformat_minor": 0,
  "metadata": {
    "colab": {
      "provenance": [],
      "authorship_tag": "ABX9TyPxOM4xLYrsBZGOrve/5hdh",
      "include_colab_link": true
    },
    "kernelspec": {
      "name": "python3",
      "display_name": "Python 3"
    },
    "language_info": {
      "name": "python"
    }
  },
  "cells": [
    {
      "cell_type": "markdown",
      "metadata": {
        "id": "view-in-github",
        "colab_type": "text"
      },
      "source": [
        "<a href=\"https://colab.research.google.com/github/sibadrita23/Climate-Data-from-Open-Meteo-API/blob/main/Climate_Data_from_Open_Meteo_API.ipynb\" target=\"_parent\"><img src=\"https://colab.research.google.com/assets/colab-badge.svg\" alt=\"Open In Colab\"/></a>"
      ]
    },
    {
      "cell_type": "code",
      "execution_count": 1,
      "metadata": {
        "colab": {
          "base_uri": "https://localhost:8080/"
        },
        "id": "sx3Nbym-TmkJ",
        "outputId": "d9243fc7-38b6-47d9-ee2a-b149f69d2ca2"
      },
      "outputs": [
        {
          "output_type": "stream",
          "name": "stdout",
          "text": [
            "Requirement already satisfied: requests in /usr/local/lib/python3.10/dist-packages (2.32.3)\n",
            "Requirement already satisfied: charset-normalizer<4,>=2 in /usr/local/lib/python3.10/dist-packages (from requests) (3.4.0)\n",
            "Requirement already satisfied: idna<4,>=2.5 in /usr/local/lib/python3.10/dist-packages (from requests) (3.10)\n",
            "Requirement already satisfied: urllib3<3,>=1.21.1 in /usr/local/lib/python3.10/dist-packages (from requests) (2.2.3)\n",
            "Requirement already satisfied: certifi>=2017.4.17 in /usr/local/lib/python3.10/dist-packages (from requests) (2024.8.30)\n"
          ]
        }
      ],
      "source": [
        "!pip install requests\n"
      ]
    },
    {
      "cell_type": "code",
      "source": [
        "import requests\n",
        "\n",
        "def get_climate_data(latitude, longitude):\n",
        "    # Open-Meteo API endpoint\n",
        "    url = f\"https://api.open-meteo.com/v1/forecast?latitude={latitude}&longitude={longitude}&current_weather=true\"\n",
        "\n",
        "    try:\n",
        "        response = requests.get(url)\n",
        "        response.raise_for_status()  # Raise an error for bad responses\n",
        "        data = response.json()\n",
        "\n",
        "        # Extract current weather data\n",
        "        current_weather = data.get(\"current_weather\", {})\n",
        "        if current_weather:\n",
        "            print(f\"Current Weather at Latitude: {latitude}, Longitude: {longitude}\")\n",
        "            print(f\"Temperature: {current_weather.get('temperature')} °C\")\n",
        "            print(f\"Wind Speed: {current_weather.get('windspeed')} km/h\")\n",
        "            print(f\"Wind Direction: {current_weather.get('winddirection')}°\")\n",
        "            print(f\"Weather Code: {current_weather.get('weathercode')}\")\n",
        "        else:\n",
        "            print(\"No current weather data available.\")\n",
        "    except requests.exceptions.RequestException as e:\n",
        "        print(f\"An error occurred: {e}\")\n",
        "\n",
        "if __name__ == \"__main__\":\n",
        "    # Example coordinates (latitude, longitude)\n",
        "    latitude = 37.7749   # San Francisco\n",
        "    longitude = -122.4194\n",
        "\n",
        "    get_climate_data(latitude, longitude)\n"
      ],
      "metadata": {
        "colab": {
          "base_uri": "https://localhost:8080/"
        },
        "id": "HM0ZD8dITzu1",
        "outputId": "1dd908a2-71a6-44cf-f129-59b2f2bd9dd3"
      },
      "execution_count": 2,
      "outputs": [
        {
          "output_type": "stream",
          "name": "stdout",
          "text": [
            "Current Weather at Latitude: 37.7749, Longitude: -122.4194\n",
            "Temperature: 16.1 °C\n",
            "Wind Speed: 15.5 km/h\n",
            "Wind Direction: 288°\n",
            "Weather Code: 0\n"
          ]
        }
      ]
    },
    {
      "cell_type": "code",
      "source": [
        "import requests\n",
        "\n",
        "def get_climate_data(latitude, longitude):\n",
        "    # Open-Meteo API endpoint\n",
        "    url = f\"https://api.open-meteo.com/v1/forecast?latitude={latitude}&longitude={longitude}&current_weather=true\"\n",
        "\n",
        "    try:\n",
        "        response = requests.get(url)\n",
        "        response.raise_for_status()  # Raise an error for bad responses\n",
        "        data = response.json()\n",
        "\n",
        "        # Extract current weather data\n",
        "        current_weather = data.get(\"current_weather\", {})\n",
        "        if current_weather:\n",
        "            print(f\"Current Weather at Latitude: {latitude}, Longitude: {longitude}\")\n",
        "            print(f\"Temperature: {current_weather.get('temperature')} °C\")\n",
        "            print(f\"Wind Speed: {current_weather.get('windspeed')} km/h\")\n",
        "            print(f\"Wind Direction: {current_weather.get('winddirection')}°\")\n",
        "            print(f\"Weather Code: {current_weather.get('weathercode')}\")\n",
        "        else:\n",
        "            print(\"No current weather data available.\")\n",
        "    except requests.exceptions.RequestException as e:\n",
        "        print(f\"An error occurred: {e}\")\n",
        "\n",
        "if __name__ == \"__main__\":\n",
        "    # User input for latitude and longitude\n",
        "    try:\n",
        "        latitude = float(input(\"Enter latitude: \"))\n",
        "        longitude = float(input(\"Enter longitude: \"))\n",
        "\n",
        "        # Check if the latitude and longitude are within valid ranges\n",
        "        if -90 <= latitude <= 90 and -180 <= longitude <= 180:\n",
        "            get_climate_data(latitude, longitude)\n",
        "        else:\n",
        "            print(\"Invalid latitude or longitude. Please enter values within valid ranges.\")\n",
        "    except ValueError:\n",
        "        print(\"Please enter valid numeric values for latitude and longitude.\")\n"
      ],
      "metadata": {
        "colab": {
          "base_uri": "https://localhost:8080/"
        },
        "id": "dTYc9zOFUQFc",
        "outputId": "686ef43f-51e9-4ef2-a79a-06edf9b40e29"
      },
      "execution_count": 3,
      "outputs": [
        {
          "output_type": "stream",
          "name": "stdout",
          "text": [
            "Enter latitude: 40\n",
            "Enter longitude: 50\n",
            "Current Weather at Latitude: 40.0, Longitude: 50.0\n",
            "Temperature: 16.3 °C\n",
            "Wind Speed: 13.9 km/h\n",
            "Wind Direction: 197°\n",
            "Weather Code: 2\n"
          ]
        }
      ]
    }
  ]
}